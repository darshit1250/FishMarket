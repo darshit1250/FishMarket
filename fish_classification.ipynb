{
  "nbformat": 4,
  "nbformat_minor": 0,
  "metadata": {
    "colab": {
      "name": "fish_classification.ipynb",
      "provenance": []
    },
    "kernelspec": {
      "name": "python3",
      "display_name": "Python 3"
    },
    "language_info": {
      "name": "python"
    }
  },
  "cells": [
    {
      "cell_type": "code",
      "metadata": {
        "colab": {
          "base_uri": "https://localhost:8080/",
          "height": 540
        },
        "id": "HvaDsTx7aL9T",
        "outputId": "abd867d6-4647-4ba2-f418-a3efa00f479d"
      },
      "source": [
        "import pandas as pd\n",
        "import numpy as np\n",
        "from sklearn.model_selection import train_test_split\n",
        "from sklearn.ensemble import RandomForestClassifier\n",
        "from sklearn.metrics import confusion_matrix\n",
        "import seaborn as sns; sns.set()\n",
        "import matplotlib.pyplot as plt\n",
        "from sklearn.preprocessing import LabelEncoder\n",
        "\n",
        "data = pd.read_csv('Fish.csv')\n",
        "\n",
        "encoder = LabelEncoder()\n",
        "data['Species'] = encoder.fit_transform(data['Species'])\n",
        "\n",
        "X = data.drop('Species', axis = 1)\n",
        "y = data['Species']\n",
        "X_train, X_test, y_train, y_test = train_test_split(X, y, test_size=0.25, random_state=47)\n",
        "print(X_train)\n",
        "\n",
        "clf = RandomForestClassifier(random_state=42)\n",
        "clf.fit(X_train, y_train)\n",
        "rf_y_pred=clf.predict(X_test)\n",
        "pred_prob_rf = clf.predict_proba(X_test)\n",
        "print(\"score: \",clf.score(X_test, y_test))\n",
        "\n",
        "rf_metro = confusion_matrix(rf_y_pred, y_test)\n",
        "rf_names_metro = np.unique(y_test)\n",
        "sns.heatmap(rf_metro, square=True, annot=True, fmt='d', cbar=False, xticklabels= rf_names_metro, yticklabels=rf_names_metro)\n",
        "plt.xlabel('Actual [Truth]')\n",
        "plt.ylabel('Predicted')\n",
        "plt.show()"
      ],
      "execution_count": 7,
      "outputs": [
        {
          "output_type": "stream",
          "text": [
            "     Weight  Length1  Length2  Length3   Height   Width\n",
            "38     87.0     18.2     19.8     22.2   5.6166  3.1746\n",
            "153     9.8     11.4     12.0     13.2   2.2044  1.1484\n",
            "3     363.0     26.3     29.0     33.5  12.7300  4.4555\n",
            "94    150.0     21.0     23.0     24.5   5.2185  3.6260\n",
            "11    500.0     28.7     31.0     36.2  14.3714  4.8146\n",
            "..      ...      ...      ...      ...      ...     ...\n",
            "72      5.9      7.5      8.4      8.8   2.1120  1.4080\n",
            "8     450.0     27.6     30.0     35.1  14.0049  4.8438\n",
            "71    300.0     24.0     26.0     29.0  11.3680  4.2340\n",
            "134   456.0     40.0     42.5     45.5   7.2800  4.3225\n",
            "135   510.0     40.0     42.5     45.5   6.8250  4.4590\n",
            "\n",
            "[119 rows x 6 columns]\n",
            "score:  0.725\n"
          ],
          "name": "stdout"
        },
        {
          "output_type": "display_data",
          "data": {
            "image/png": "[encoded data removed]",
            "text/plain": [
              "<Figure size 432x288 with 1 Axes>"
            ]
          },
          "metadata": {
            "tags": []
          }
        }
      ]
    },
    {
      "cell_type": "code",
      "metadata": {
        "id": "ZxDaY-gSfrd8"
      },
      "source": [
        "import pickle\n",
        "pickle_out = open('fish_class.pkl','wb')\n",
        "pickle.dump(clf, pickle_out)\n",
        "pickle_out.close()"
      ],
      "execution_count": 15,
      "outputs": []
    },
    {
      "cell_type": "code",
      "metadata": {
        "colab": {
          "base_uri": "https://localhost:8080/"
        },
        "id": "nqSbI2nifv3m",
        "outputId": "a98afd3f-7604-4f2c-abd7-44032b443726"
      },
      "source": [
        "prediction = clf.predict([[339,25,25,25,12,5]]);\n",
        "if (prediction[0] == 0):\n",
        "    print('Bream')\n",
        "elif (prediction[0] == 1):\n",
        "    print('Parkki')\n",
        "elif (prediction[0] == 2):\n",
        "    print('Perch')\n",
        "elif (prediction[0] == 3):\n",
        "    print('Pike')\n",
        "elif (prediction[0] == 4):\n",
        "    print('Roach')\n",
        "elif (prediction[0] == 5):\n",
        "    print('Smelt')                      \n",
        "else:\n",
        "    print('Whitefish')\n"
      ],
      "execution_count": 13,
      "outputs": [
        {
          "output_type": "stream",
          "text": [
            "Parkki\n"
          ],
          "name": "stdout"
        }
      ]
    }
  ]
}